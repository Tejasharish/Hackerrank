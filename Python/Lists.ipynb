{
 "cells": [
  {
   "cell_type": "code",
   "execution_count": null,
   "metadata": {},
   "outputs": [],
   "source": [
    "lis = []\n",
    "\n",
    "N = int(input())\n",
    "\n",
    "for i in range(0, N):\n",
    "    ele = input().split()\n",
    "\n",
    "    if ele[0] == 'insert':\n",
    "        lis.insert(int(ele[1]), int(ele[2]))\n",
    "    elif ele[0] == 'print':\n",
    "        print(lis)\n",
    "    elif ele[0] == 'remove':\n",
    "        lis.remove(int(ele[1]))\n",
    "    elif ele[0] == 'append':\n",
    "        lis.append(int(ele[1]))\n",
    "    elif ele[0] == 'sort':\n",
    "        lis.sort()\n",
    "    elif ele[0] == 'pop':\n",
    "        lis.pop()\n",
    "    elif ele[0] == 'reverse':\n",
    "        lis.reverse()"
   ]
  },
  {
   "cell_type": "code",
   "execution_count": null,
   "metadata": {},
   "outputs": [],
   "source": []
  }
 ],
 "metadata": {
  "kernelspec": {
   "display_name": "Python 3",
   "language": "python",
   "name": "python3"
  },
  "language_info": {
   "codemirror_mode": {
    "name": "ipython",
    "version": 3
   },
   "file_extension": ".py",
   "mimetype": "text/x-python",
   "name": "python",
   "nbconvert_exporter": "python",
   "pygments_lexer": "ipython3",
   "version": "3.7.1"
  }
 },
 "nbformat": 4,
 "nbformat_minor": 2
}
