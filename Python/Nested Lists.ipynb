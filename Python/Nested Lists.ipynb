{
 "cells": [
  {
   "cell_type": "code",
   "execution_count": null,
   "metadata": {},
   "outputs": [],
   "source": [
    "N = int(input())\n",
    "\n",
    "students = list()\n",
    "for i in range(N):\n",
    "    students.append([input(), float(input())])\n",
    "\n",
    "scores = set([students[x][1] for x in range(N)])\n",
    "scores = list(scores)\n",
    "scores.sort()\n",
    "\n",
    "students = [x[0] for x in students if x[1] == scores[1]]\n",
    "students.sort()\n",
    "\n",
    "for s in students:\n",
    "    print(s) \n"
   ]
  },
  {
   "cell_type": "code",
   "execution_count": null,
   "metadata": {},
   "outputs": [],
   "source": []
  }
 ],
 "metadata": {
  "kernelspec": {
   "display_name": "Python 3",
   "language": "python",
   "name": "python3"
  },
  "language_info": {
   "codemirror_mode": {
    "name": "ipython",
    "version": 3
   },
   "file_extension": ".py",
   "mimetype": "text/x-python",
   "name": "python",
   "nbconvert_exporter": "python",
   "pygments_lexer": "ipython3",
   "version": "3.7.1"
  }
 },
 "nbformat": 4,
 "nbformat_minor": 2
}
