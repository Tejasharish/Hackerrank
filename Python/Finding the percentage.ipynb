{
 "cells": [
  {
   "cell_type": "code",
   "execution_count": null,
   "metadata": {},
   "outputs": [],
   "source": [
    "n= int(input())\n",
    "student=dict()\n",
    "for s in range(n):\n",
    "    tare=(input().split())\n",
    "    name=tare[0]\n",
    "    student[name]=float(tare[1])+float(tare[2])+ float(tare[3])\n",
    "    \n",
    "name=input()\n",
    "\n",
    "ans=(student[name]/3)\n",
    "print(\"{0:.2f}\".format(ans))\n"
   ]
  }
 ],
 "metadata": {
  "kernelspec": {
   "display_name": "Python 3",
   "language": "python",
   "name": "python3"
  },
  "language_info": {
   "codemirror_mode": {
    "name": "ipython",
    "version": 3
   },
   "file_extension": ".py",
   "mimetype": "text/x-python",
   "name": "python",
   "nbconvert_exporter": "python",
   "pygments_lexer": "ipython3",
   "version": "3.7.1"
  }
 },
 "nbformat": 4,
 "nbformat_minor": 2
}
