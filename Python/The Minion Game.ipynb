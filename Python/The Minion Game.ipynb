{
 "cells": [
  {
   "cell_type": "code",
   "execution_count": null,
   "metadata": {},
   "outputs": [],
   "source": [
    "def minion_game(string):\n",
    "    length = len(string)\n",
    "    the_vowel = \"AEIOU\"\n",
    "    kiven = 0\n",
    "    stuart = 0\n",
    "    for i in range(length):\n",
    "        if string[i] in the_vowel:\n",
    "            kiven += length - i\n",
    "        else:\n",
    "            stuart += length - i\n",
    "\n",
    "    if kiven > stuart:\n",
    "        print(\"Kevin %d\" % kiven)\n",
    "    elif kiven < stuart:\n",
    "        print(\"Stuart %d\" % stuart)\n",
    "    else:\n",
    "        print(\"Draw\")\n"
   ]
  }
 ],
 "metadata": {
  "kernelspec": {
   "display_name": "Python 3",
   "language": "python",
   "name": "python3"
  },
  "language_info": {
   "codemirror_mode": {
    "name": "ipython",
    "version": 3
   },
   "file_extension": ".py",
   "mimetype": "text/x-python",
   "name": "python",
   "nbconvert_exporter": "python",
   "pygments_lexer": "ipython3",
   "version": "3.7.1"
  }
 },
 "nbformat": 4,
 "nbformat_minor": 2
}
